{
 "cells": [
  {
   "cell_type": "code",
   "execution_count": 1,
   "id": "d5d720b9-7e83-4098-80b0-6b8308c16062",
   "metadata": {},
   "outputs": [],
   "source": [
    "import numpy as np\n",
    "from qiskit.opflow import X, Z, Y, I"
   ]
  },
  {
   "cell_type": "code",
   "execution_count": 2,
   "id": "802737bf-b397-4b21-9cad-36677e4ef600",
   "metadata": {},
   "outputs": [],
   "source": [
    "from qiskit.circuit.library import EfficientSU2\n",
    "from qiskit.algorithms.optimizers import COBYLA, SPSA, SLSQP\n",
    "from qiskit import BasicAer, Aer\n",
    "from qiskit.algorithms import VQE"
   ]
  },
  {
   "cell_type": "markdown",
   "id": "7bd8049e-4393-452e-bbff-ac3e631a50f1",
   "metadata": {},
   "source": [
    "Start of 29/11/22:\n",
    "\n",
    "1. define hamiltonian for 1D and then 2D J1-J2 model ->\n",
    "    a. exact ground state\n",
    "    b. state vector simulation runs\n",
    "2. define measurements using actual quantum circuit\n",
    "3. construct ansatz\n",
    "4. VQE and optimization\n",
    "\n",
    "psi\n",
    "<psi|H|psi>"
   ]
  },
  {
   "cell_type": "code",
   "execution_count": 3,
   "id": "33098220-4b31-4590-aaee-763788c45d5e",
   "metadata": {},
   "outputs": [],
   "source": [
    "def getHamiltonian_J1J2_2D(m, n, J1, J2, h=0):\n",
    "    \"\"\"\n",
    "        m x n lattice of spins\n",
    "        J1: nearest neighbour interaction\n",
    "        J2: next to nearest neighbour interaction\n",
    "        h: magnetic field, taken to be 0 for now\n",
    "        \n",
    "        H = - J1 ΣSi.Sj - J2 ΣSi.Sj - h ΣSi\n",
    "    \"\"\"\n",
    "    N = m*n\n",
    "    # H = np.zeros((2**N, 2**N))\n",
    "    H1 = 0\n",
    "    H2 = 0\n",
    "    \n",
    "    def getIndex(i, j):\n",
    "        \"\"\"\n",
    "            mapping for spins: i,j (0<=i<m, 0<=j<n)\n",
    "                maps to (i*n+j)\n",
    "        \"\"\"\n",
    "        assert 0<=i<m and 0<=j<n\n",
    "        return i*n+j\n",
    "    \n",
    "    # pauli_x = np.array([[0, 1], [1, 0]])\n",
    "    # pauli_y = np.array([[0, -1j], [1j, 0]])\n",
    "    # pauli_z = np.array([[1, 0], [0, -1]])\n",
    "    \n",
    "    # contribution of nearest neighbour, spins X, Y and Z:\n",
    "    # for pauli in [pauli_x, pauli_y, pauli_z]:\n",
    "    for pauli in [X, Y, Z]:\n",
    "        for i in range(m):\n",
    "            for j in range(n):\n",
    "                indexCurr = getIndex(i,j)\n",
    "                index_East = getIndex(i,(j+1)%n)\n",
    "                total = 0\n",
    "                for ind in range(0, N):\n",
    "                    if (ind == indexCurr \n",
    "                        or ind == index_East):\n",
    "                        curr = pauli\n",
    "                    else:\n",
    "                        # curr = np.identity((2,2))\n",
    "                        curr = I\n",
    "                    if not total:\n",
    "                        total = curr\n",
    "                    else:\n",
    "                        # total = np.kron(total, curr)\n",
    "                        total = total^curr\n",
    "                # print(total)\n",
    "                if not H1:\n",
    "                    H1 = total\n",
    "                else:\n",
    "                    H1 += total\n",
    "                index_South = getIndex((i+1)%m,j)\n",
    "                total = 0\n",
    "                for ind in range(0, N):\n",
    "                    if (ind == indexCurr or ind == index_South):\n",
    "                        curr = pauli\n",
    "                    else:\n",
    "                        curr = I\n",
    "                    if not total:\n",
    "                        total = curr\n",
    "                    else:\n",
    "                        # total = np.kron(total, curr)\n",
    "                        total = total^curr\n",
    "                H1 += total\n",
    "                \n",
    "         \n",
    "    # contribution of next to nearest neighbour, spins X, Y and Z:\n",
    "    # for pauli in [pauli_x, pauli_y, pauli_z]:\n",
    "    for pauli in [X, Y, Z]:\n",
    "        for i in range(m):\n",
    "            for j in range(n):\n",
    "                indexCurr = getIndex(i,j)\n",
    "                index_NorthEast = getIndex((i-1)%m,(j+1)%n)\n",
    "                total = 0\n",
    "                for ind in range(0, N):\n",
    "                    if (ind == indexCurr or ind == index_NorthEast):\n",
    "                        curr = pauli\n",
    "                    else:\n",
    "                        # curr = np.identity((2,2))\n",
    "                        curr = I\n",
    "                    if not total:\n",
    "                        total = curr\n",
    "                    else:\n",
    "                        # total = np.kron(total, curr)\n",
    "                        total = total^curr\n",
    "                # print(total)\n",
    "                if not H2:\n",
    "                    H2 = total\n",
    "                else:\n",
    "                    H2 += total\n",
    "                index_SouthEast = getIndex((i+1)%m,(j+1)%n)\n",
    "                total = 0\n",
    "                for ind in range(0, N):\n",
    "                    if (ind == indexCurr or ind == index_SouthEast):\n",
    "                        curr = pauli\n",
    "                    else:\n",
    "                        curr = I\n",
    "                    if not total:\n",
    "                        total = curr\n",
    "                    else:\n",
    "                        # total = np.kron(total, curr)\n",
    "                        total = total^curr\n",
    "                H2 += total\n",
    "                \n",
    "    return H1*J1 + J2*H2\n",
    "            \n",
    "            \n",
    "# corner cases: 1D, 2x2 don't work\n",
    "# 1D takes neighbours that don't exist\n",
    "# and 2D has multiple repetitions of same bonds"
   ]
  },
  {
   "cell_type": "code",
   "execution_count": 4,
   "id": "49a92f14-50c3-454c-8f09-7653a1e20bc2",
   "metadata": {},
   "outputs": [
    {
     "data": {
      "text/plain": [
       "PauliSumOp(SparsePauliOp(['XXIIIIIII', 'XIIXIIIII', 'IXXIIIIII', 'IXIIXIIII', 'XIXIIIIII', 'IIXIIXIII', 'IIIXXIIII', 'IIIXIIXII', 'IIIIXXIII', 'IIIIXIIXI', 'IIIXIXIII', 'IIIIIXIIX', 'IIIIIIXXI', 'XIIIIIXII', 'IIIIIIIXX', 'IXIIIIIXI', 'IIIIIIXIX', 'IIXIIIIIX', 'YYIIIIIII', 'YIIYIIIII', 'IYYIIIIII', 'IYIIYIIII', 'YIYIIIIII', 'IIYIIYIII', 'IIIYYIIII', 'IIIYIIYII', 'IIIIYYIII', 'IIIIYIIYI', 'IIIYIYIII', 'IIIIIYIIY', 'IIIIIIYYI', 'YIIIIIYII', 'IIIIIIIYY', 'IYIIIIIYI', 'IIIIIIYIY', 'IIYIIIIIY', 'ZZIIIIIII', 'ZIIZIIIII', 'IZZIIIIII', 'IZIIZIIII', 'ZIZIIIIII', 'IIZIIZIII', 'IIIZZIIII', 'IIIZIIZII', 'IIIIZZIII', 'IIIIZIIZI', 'IIIZIZIII', 'IIIIIZIIZ', 'IIIIIIZZI', 'ZIIIIIZII', 'IIIIIIIZZ', 'IZIIIIIZI', 'IIIIIIZIZ', 'IIZIIIIIZ', 'XIIIIIIXI', 'XIIIXIIII', 'IXIIIIIIX', 'IXIIIXIII', 'IIXIIIXII', 'IIXXIIIII', 'IXIXIIIII', 'IIIXIIIXI', 'IIXIXIIII', 'IIIIXIIIX', 'XIIIIXIII', 'IIIIIXXII', 'IIIIXIXII', 'IXIIIIXII', 'IIIIIXIXI', 'IIXIIIIXI', 'IIIXIIIIX', 'XIIIIIIIX', 'YIIIIIIYI', 'YIIIYIIII', 'IYIIIIIIY', 'IYIIIYIII', 'IIYIIIYII', 'IIYYIIIII', 'IYIYIIIII', 'IIIYIIIYI', 'IIYIYIIII', 'IIIIYIIIY', 'YIIIIYIII', 'IIIIIYYII', 'IIIIYIYII', 'IYIIIIYII', 'IIIIIYIYI', 'IIYIIIIYI', 'IIIYIIIIY', 'YIIIIIIIY', 'ZIIIIIIZI', 'ZIIIZIIII', 'IZIIIIIIZ', 'IZIIIZIII', 'IIZIIIZII', 'IIZZIIIII', 'IZIZIIIII', 'IIIZIIIZI', 'IIZIZIIII', 'IIIIZIIIZ', 'ZIIIIZIII', 'IIIIIZZII', 'IIIIZIZII', 'IZIIIIZII', 'IIIIIZIZI', 'IIZIIIIZI', 'IIIZIIIIZ', 'ZIIIIIIIZ'],\n",
       "              coeffs=[1. +0.j, 1. +0.j, 1. +0.j, 1. +0.j, 1. +0.j, 1. +0.j, 1. +0.j, 1. +0.j,\n",
       " 1. +0.j, 1. +0.j, 1. +0.j, 1. +0.j, 1. +0.j, 1. +0.j, 1. +0.j, 1. +0.j,\n",
       " 1. +0.j, 1. +0.j, 1. +0.j, 1. +0.j, 1. +0.j, 1. +0.j, 1. +0.j, 1. +0.j,\n",
       " 1. +0.j, 1. +0.j, 1. +0.j, 1. +0.j, 1. +0.j, 1. +0.j, 1. +0.j, 1. +0.j,\n",
       " 1. +0.j, 1. +0.j, 1. +0.j, 1. +0.j, 1. +0.j, 1. +0.j, 1. +0.j, 1. +0.j,\n",
       " 1. +0.j, 1. +0.j, 1. +0.j, 1. +0.j, 1. +0.j, 1. +0.j, 1. +0.j, 1. +0.j,\n",
       " 1. +0.j, 1. +0.j, 1. +0.j, 1. +0.j, 1. +0.j, 1. +0.j, 0.5+0.j, 0.5+0.j,\n",
       " 0.5+0.j, 0.5+0.j, 0.5+0.j, 0.5+0.j, 0.5+0.j, 0.5+0.j, 0.5+0.j, 0.5+0.j,\n",
       " 0.5+0.j, 0.5+0.j, 0.5+0.j, 0.5+0.j, 0.5+0.j, 0.5+0.j, 0.5+0.j, 0.5+0.j,\n",
       " 0.5+0.j, 0.5+0.j, 0.5+0.j, 0.5+0.j, 0.5+0.j, 0.5+0.j, 0.5+0.j, 0.5+0.j,\n",
       " 0.5+0.j, 0.5+0.j, 0.5+0.j, 0.5+0.j, 0.5+0.j, 0.5+0.j, 0.5+0.j, 0.5+0.j,\n",
       " 0.5+0.j, 0.5+0.j, 0.5+0.j, 0.5+0.j, 0.5+0.j, 0.5+0.j, 0.5+0.j, 0.5+0.j,\n",
       " 0.5+0.j, 0.5+0.j, 0.5+0.j, 0.5+0.j, 0.5+0.j, 0.5+0.j, 0.5+0.j, 0.5+0.j,\n",
       " 0.5+0.j, 0.5+0.j, 0.5+0.j, 0.5+0.j]), coeff=1)"
      ]
     },
     "execution_count": 4,
     "metadata": {},
     "output_type": "execute_result"
    }
   ],
   "source": [
    "getHamiltonian_J1J2_2D(3,3,1,0.5)"
   ]
  },
  {
   "cell_type": "code",
   "execution_count": 5,
   "id": "d37ac9ab-46fa-4b75-92c8-af3e5c150e4d",
   "metadata": {},
   "outputs": [
    {
     "name": "stdout",
     "output_type": "stream",
     "text": [
      "(-13.938003499857201+5.367606511339193e-16j)\n"
     ]
    }
   ],
   "source": [
    "ham = getHamiltonian_J1J2_2D(3,3,1,0.5)\n",
    "M = ham.to_matrix()\n",
    "\n",
    "# TODO: approximate the eigenvalue for larger systems\n",
    "exactEnergy = np.min(np.linalg.eigvals(M))\n",
    "print(exactEnergy)"
   ]
  },
  {
   "cell_type": "markdown",
   "id": "a1fc3c90-91d3-4bf1-b9c6-64ed1bd3f041",
   "metadata": {},
   "source": [
    "Plan for this week and next:\n",
    "\n",
    "Friday (02/12/22):\n",
    "- Basic parametrized ansatz for 3x3 lattice, run the simulator, use statevector simulation and matrix form of Hamiltonian to obtain a result\n",
    "\n",
    "0/1\n",
    "psi \n",
    "\n",
    "**Make sure changing parameters actually changes the output**\n",
    "\n",
    "Tuesday (06/12/22):\n",
    "- Try VQE on the parametrized ansatz"
   ]
  }
 ],
 "metadata": {
  "kernelspec": {
   "display_name": "FQIP10",
   "language": "python",
   "name": "fqip10"
  },
  "language_info": {
   "codemirror_mode": {
    "name": "ipython",
    "version": 3
   },
   "file_extension": ".py",
   "mimetype": "text/x-python",
   "name": "python",
   "nbconvert_exporter": "python",
   "pygments_lexer": "ipython3",
   "version": "3.10.8"
  }
 },
 "nbformat": 4,
 "nbformat_minor": 5
}
